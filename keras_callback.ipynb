{
  "nbformat": 4,
  "nbformat_minor": 0,
  "metadata": {
    "colab": {
      "provenance": [],
      "authorship_tag": "ABX9TyOrxhmwHEGKMfKsHtS+usWO"
    },
    "kernelspec": {
      "name": "python3",
      "display_name": "Python 3"
    },
    "language_info": {
      "name": "python"
    }
  },
  "cells": [
    {
      "cell_type": "code",
      "execution_count": 1,
      "metadata": {
        "id": "qXkTRXlaBaV6"
      },
      "outputs": [],
      "source": [
        "import tensorflow as tf\n",
        "from tensorflow import keras\n",
        "from tensorflow.keras import Sequential,layers\n",
        "from tensorflow.keras.datasets import mnist"
      ]
    },
    {
      "cell_type": "code",
      "source": [
        "(x_train,y_train),(x_test,y_test)=mnist.load_data()"
      ],
      "metadata": {
        "colab": {
          "base_uri": "https://localhost:8080/"
        },
        "id": "M4Ix4iKEDArV",
        "outputId": "8f39f54e-f449-4f0e-9fb1-8e01eb45f07e"
      },
      "execution_count": 2,
      "outputs": [
        {
          "output_type": "stream",
          "name": "stdout",
          "text": [
            "Downloading data from https://storage.googleapis.com/tensorflow/tf-keras-datasets/mnist.npz\n",
            "\u001b[1m11490434/11490434\u001b[0m \u001b[32m━━━━━━━━━━━━━━━━━━━━\u001b[0m\u001b[37m\u001b[0m \u001b[1m0s\u001b[0m 0us/step\n"
          ]
        }
      ]
    },
    {
      "cell_type": "code",
      "source": [
        "x_train=x_train.reshape(-1,28*28)/255.0\n",
        "x_test=x_test.reshape(-1,28*28)/255.0"
      ],
      "metadata": {
        "id": "_X_894DSDJrd"
      },
      "execution_count": 3,
      "outputs": []
    },
    {
      "cell_type": "code",
      "source": [
        "model=Sequential(\n",
        "    [\n",
        "        layers.Dense(512,activation='relu',name='first_layer'),\n",
        "        layers.Dense(256,activation='relu',name='second_layer'),\n",
        "        layers.Dense(10,activation='softmax',name='output_layer')\n",
        "    ]\n",
        ")"
      ],
      "metadata": {
        "id": "osRnFCrrDUNL"
      },
      "execution_count": 4,
      "outputs": []
    },
    {
      "cell_type": "code",
      "source": [
        "model.compile(loss=keras.losses.SparseCategoricalCrossentropy(),\n",
        "              optimizer=keras.optimizers.Adam(learning_rate=0.001),\n",
        "              metrics=['accuracy'])"
      ],
      "metadata": {
        "id": "hQege4uWDcYz"
      },
      "execution_count": 5,
      "outputs": []
    },
    {
      "cell_type": "code",
      "source": [
        "checkpoint=keras.callbacks.ModelCheckpoint('best.keras',\n",
        "                                save_best_only=True,\n",
        "                                save_weights_only=False,\n",
        "                                monitor='val_loss',\n",
        "                                mode='auto',\n",
        "                                verbose=1,\n",
        "                                )"
      ],
      "metadata": {
        "id": "w4tL7Ts1Dj2X"
      },
      "execution_count": 10,
      "outputs": []
    },
    {
      "cell_type": "code",
      "source": [
        "lr_callback=keras.callbacks.ReduceLROnPlateau(monitor='val_accuracy',\n",
        "                                  mode='auto',\n",
        "                                  patience=3,\n",
        "                                  factor=0.1,\n",
        "                                  min_delta=0.0001)"
      ],
      "metadata": {
        "id": "w3_eZ3rhEGX4"
      },
      "execution_count": 11,
      "outputs": []
    },
    {
      "cell_type": "code",
      "source": [
        "model.fit(x_train,y_train,validation_data=(x_test,y_test),epochs=10,verbose=1,batch_size=32,callbacks=[checkpoint,lr_callback])"
      ],
      "metadata": {
        "colab": {
          "base_uri": "https://localhost:8080/"
        },
        "id": "uRN7mN3yEz07",
        "outputId": "5cab008e-c4e3-420d-c39c-3ff2d4dbd637"
      },
      "execution_count": 12,
      "outputs": [
        {
          "output_type": "stream",
          "name": "stdout",
          "text": [
            "Epoch 1/10\n",
            "\u001b[1m1874/1875\u001b[0m \u001b[32m━━━━━━━━━━━━━━━━━━━\u001b[0m\u001b[37m━\u001b[0m \u001b[1m0s\u001b[0m 11ms/step - accuracy: 0.9061 - loss: 0.3103\n",
            "Epoch 1: val_loss improved from inf to 0.08880, saving model to best.keras\n",
            "\u001b[1m1875/1875\u001b[0m \u001b[32m━━━━━━━━━━━━━━━━━━━━\u001b[0m\u001b[37m\u001b[0m \u001b[1m27s\u001b[0m 13ms/step - accuracy: 0.9062 - loss: 0.3102 - val_accuracy: 0.9720 - val_loss: 0.0888 - learning_rate: 0.0010\n",
            "Epoch 2/10\n",
            "\u001b[1m1871/1875\u001b[0m \u001b[32m━━━━━━━━━━━━━━━━━━━\u001b[0m\u001b[37m━\u001b[0m \u001b[1m0s\u001b[0m 11ms/step - accuracy: 0.9751 - loss: 0.0786\n",
            "Epoch 2: val_loss improved from 0.08880 to 0.07818, saving model to best.keras\n",
            "\u001b[1m1875/1875\u001b[0m \u001b[32m━━━━━━━━━━━━━━━━━━━━\u001b[0m\u001b[37m\u001b[0m \u001b[1m39s\u001b[0m 12ms/step - accuracy: 0.9751 - loss: 0.0786 - val_accuracy: 0.9746 - val_loss: 0.0782 - learning_rate: 0.0010\n",
            "Epoch 3/10\n",
            "\u001b[1m1871/1875\u001b[0m \u001b[32m━━━━━━━━━━━━━━━━━━━\u001b[0m\u001b[37m━\u001b[0m \u001b[1m0s\u001b[0m 10ms/step - accuracy: 0.9832 - loss: 0.0519\n",
            "Epoch 3: val_loss did not improve from 0.07818\n",
            "\u001b[1m1875/1875\u001b[0m \u001b[32m━━━━━━━━━━━━━━━━━━━━\u001b[0m\u001b[37m\u001b[0m \u001b[1m21s\u001b[0m 11ms/step - accuracy: 0.9832 - loss: 0.0519 - val_accuracy: 0.9751 - val_loss: 0.0790 - learning_rate: 0.0010\n",
            "Epoch 4/10\n",
            "\u001b[1m1875/1875\u001b[0m \u001b[32m━━━━━━━━━━━━━━━━━━━━\u001b[0m\u001b[37m\u001b[0m \u001b[1m0s\u001b[0m 11ms/step - accuracy: 0.9887 - loss: 0.0366\n",
            "Epoch 4: val_loss improved from 0.07818 to 0.07120, saving model to best.keras\n",
            "\u001b[1m1875/1875\u001b[0m \u001b[32m━━━━━━━━━━━━━━━━━━━━\u001b[0m\u001b[37m\u001b[0m \u001b[1m22s\u001b[0m 12ms/step - accuracy: 0.9887 - loss: 0.0366 - val_accuracy: 0.9780 - val_loss: 0.0712 - learning_rate: 0.0010\n",
            "Epoch 5/10\n",
            "\u001b[1m1870/1875\u001b[0m \u001b[32m━━━━━━━━━━━━━━━━━━━\u001b[0m\u001b[37m━\u001b[0m \u001b[1m0s\u001b[0m 11ms/step - accuracy: 0.9903 - loss: 0.0297\n",
            "Epoch 5: val_loss did not improve from 0.07120\n",
            "\u001b[1m1875/1875\u001b[0m \u001b[32m━━━━━━━━━━━━━━━━━━━━\u001b[0m\u001b[37m\u001b[0m \u001b[1m40s\u001b[0m 11ms/step - accuracy: 0.9903 - loss: 0.0297 - val_accuracy: 0.9800 - val_loss: 0.0786 - learning_rate: 0.0010\n",
            "Epoch 6/10\n",
            "\u001b[1m1872/1875\u001b[0m \u001b[32m━━━━━━━━━━━━━━━━━━━\u001b[0m\u001b[37m━\u001b[0m \u001b[1m0s\u001b[0m 11ms/step - accuracy: 0.9919 - loss: 0.0243\n",
            "Epoch 6: val_loss did not improve from 0.07120\n",
            "\u001b[1m1875/1875\u001b[0m \u001b[32m━━━━━━━━━━━━━━━━━━━━\u001b[0m\u001b[37m\u001b[0m \u001b[1m22s\u001b[0m 12ms/step - accuracy: 0.9919 - loss: 0.0243 - val_accuracy: 0.9800 - val_loss: 0.0770 - learning_rate: 0.0010\n",
            "Epoch 7/10\n",
            "\u001b[1m1872/1875\u001b[0m \u001b[32m━━━━━━━━━━━━━━━━━━━\u001b[0m\u001b[37m━\u001b[0m \u001b[1m0s\u001b[0m 11ms/step - accuracy: 0.9931 - loss: 0.0217\n",
            "Epoch 7: val_loss did not improve from 0.07120\n",
            "\u001b[1m1875/1875\u001b[0m \u001b[32m━━━━━━━━━━━━━━━━━━━━\u001b[0m\u001b[37m\u001b[0m \u001b[1m23s\u001b[0m 12ms/step - accuracy: 0.9931 - loss: 0.0217 - val_accuracy: 0.9794 - val_loss: 0.0972 - learning_rate: 0.0010\n",
            "Epoch 8/10\n",
            "\u001b[1m1871/1875\u001b[0m \u001b[32m━━━━━━━━━━━━━━━━━━━\u001b[0m\u001b[37m━\u001b[0m \u001b[1m0s\u001b[0m 11ms/step - accuracy: 0.9947 - loss: 0.0168\n",
            "Epoch 8: val_loss did not improve from 0.07120\n",
            "\u001b[1m1875/1875\u001b[0m \u001b[32m━━━━━━━━━━━━━━━━━━━━\u001b[0m\u001b[37m\u001b[0m \u001b[1m40s\u001b[0m 12ms/step - accuracy: 0.9947 - loss: 0.0168 - val_accuracy: 0.9792 - val_loss: 0.1032 - learning_rate: 0.0010\n",
            "Epoch 9/10\n",
            "\u001b[1m1873/1875\u001b[0m \u001b[32m━━━━━━━━━━━━━━━━━━━\u001b[0m\u001b[37m━\u001b[0m \u001b[1m0s\u001b[0m 11ms/step - accuracy: 0.9964 - loss: 0.0116\n",
            "Epoch 9: val_loss did not improve from 0.07120\n",
            "\u001b[1m1875/1875\u001b[0m \u001b[32m━━━━━━━━━━━━━━━━━━━━\u001b[0m\u001b[37m\u001b[0m \u001b[1m22s\u001b[0m 12ms/step - accuracy: 0.9964 - loss: 0.0116 - val_accuracy: 0.9851 - val_loss: 0.0723 - learning_rate: 1.0000e-04\n",
            "Epoch 10/10\n",
            "\u001b[1m1874/1875\u001b[0m \u001b[32m━━━━━━━━━━━━━━━━━━━\u001b[0m\u001b[37m━\u001b[0m \u001b[1m0s\u001b[0m 11ms/step - accuracy: 0.9995 - loss: 0.0021\n",
            "Epoch 10: val_loss did not improve from 0.07120\n",
            "\u001b[1m1875/1875\u001b[0m \u001b[32m━━━━━━━━━━━━━━━━━━━━\u001b[0m\u001b[37m\u001b[0m \u001b[1m41s\u001b[0m 12ms/step - accuracy: 0.9995 - loss: 0.0021 - val_accuracy: 0.9859 - val_loss: 0.0727 - learning_rate: 1.0000e-04\n"
          ]
        },
        {
          "output_type": "execute_result",
          "data": {
            "text/plain": [
              "<keras.src.callbacks.history.History at 0x7e9511113290>"
            ]
          },
          "metadata": {},
          "execution_count": 12
        }
      ]
    },
    {
      "cell_type": "code",
      "source": [
        "#using a base class\n",
        "class CustomCallback(keras.callbacks.Callback):\n",
        "    def on_epoch_end(self,epochs,logs=None):\n",
        "      if(logs.get('val_accuracy')>0.99):\n",
        "        print('Validation accuracy reached 95%, Quitting training')\n",
        "        model.stop_training=True"
      ],
      "metadata": {
        "id": "XPoPagUUFVBk"
      },
      "execution_count": 13,
      "outputs": []
    },
    {
      "cell_type": "code",
      "source": [
        "model.fit(x_train,y_train,validation_data=(x_test,y_test),epochs=10,verbose=1,batch_size=32,callbacks=[CustomCallback()])"
      ],
      "metadata": {
        "colab": {
          "base_uri": "https://localhost:8080/"
        },
        "id": "SUUZXmxyH6yc",
        "outputId": "92392dfc-e8b5-4c9e-e6b8-d40678f506cf"
      },
      "execution_count": null,
      "outputs": [
        {
          "output_type": "stream",
          "name": "stdout",
          "text": [
            "Epoch 1/10\n",
            "\u001b[1m 119/1875\u001b[0m \u001b[32m━\u001b[0m\u001b[37m━━━━━━━━━━━━━━━━━━━\u001b[0m \u001b[1m17s\u001b[0m 10ms/step - accuracy: 0.9999 - loss: 8.2716e-04"
          ]
        }
      ]
    },
    {
      "cell_type": "code",
      "source": [],
      "metadata": {
        "id": "5eyi2TDjIBpc"
      },
      "execution_count": null,
      "outputs": []
    }
  ]
}