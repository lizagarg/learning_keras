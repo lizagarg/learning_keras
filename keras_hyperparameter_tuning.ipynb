{
  "nbformat": 4,
  "nbformat_minor": 0,
  "metadata": {
    "colab": {
      "provenance": [],
      "authorship_tag": "ABX9TyMkvG3HWuq1PeliAUkZoTcb"
    },
    "kernelspec": {
      "name": "python3",
      "display_name": "Python 3"
    },
    "language_info": {
      "name": "python"
    }
  },
  "cells": [
    {
      "cell_type": "code",
      "execution_count": 1,
      "metadata": {
        "id": "b7A07c7P3BId"
      },
      "outputs": [],
      "source": [
        "import tensorflow as tf\n",
        "from tensorflow import keras\n",
        "from tensorflow.keras import Sequential,layers\n",
        "from tensorflow.keras.datasets import mnist"
      ]
    },
    {
      "cell_type": "code",
      "source": [
        "(x_train,y_train),(x_test,y_test)=mnist.load_data()"
      ],
      "metadata": {
        "colab": {
          "base_uri": "https://localhost:8080/"
        },
        "id": "Z85f3rUy4TRG",
        "outputId": "545d0e22-a806-42f5-caec-99674a116b33"
      },
      "execution_count": 2,
      "outputs": [
        {
          "output_type": "stream",
          "name": "stdout",
          "text": [
            "Downloading data from https://storage.googleapis.com/tensorflow/tf-keras-datasets/mnist.npz\n",
            "\u001b[1m11490434/11490434\u001b[0m \u001b[32m━━━━━━━━━━━━━━━━━━━━\u001b[0m\u001b[37m\u001b[0m \u001b[1m0s\u001b[0m 0us/step\n"
          ]
        }
      ]
    },
    {
      "cell_type": "code",
      "source": [
        "x_train=x_train.reshape(-1,28*28)/255.0\n",
        "x_test=x_test.reshape(-1,28*28)/255.0"
      ],
      "metadata": {
        "id": "cdNQsAqb4Xae"
      },
      "execution_count": 3,
      "outputs": []
    },
    {
      "cell_type": "code",
      "source": [
        "!pip install keras_tuner"
      ],
      "metadata": {
        "colab": {
          "base_uri": "https://localhost:8080/"
        },
        "id": "lCOBwu1u4qrQ",
        "outputId": "ae7b9b29-28a8-4b7b-b1a4-98e6d5dcb909"
      },
      "execution_count": 4,
      "outputs": [
        {
          "output_type": "stream",
          "name": "stdout",
          "text": [
            "Collecting keras_tuner\n",
            "  Downloading keras_tuner-1.4.7-py3-none-any.whl.metadata (5.4 kB)\n",
            "Requirement already satisfied: keras in /usr/local/lib/python3.11/dist-packages (from keras_tuner) (3.8.0)\n",
            "Requirement already satisfied: packaging in /usr/local/lib/python3.11/dist-packages (from keras_tuner) (24.2)\n",
            "Requirement already satisfied: requests in /usr/local/lib/python3.11/dist-packages (from keras_tuner) (2.32.3)\n",
            "Collecting kt-legacy (from keras_tuner)\n",
            "  Downloading kt_legacy-1.0.5-py3-none-any.whl.metadata (221 bytes)\n",
            "Requirement already satisfied: absl-py in /usr/local/lib/python3.11/dist-packages (from keras->keras_tuner) (1.4.0)\n",
            "Requirement already satisfied: numpy in /usr/local/lib/python3.11/dist-packages (from keras->keras_tuner) (1.26.4)\n",
            "Requirement already satisfied: rich in /usr/local/lib/python3.11/dist-packages (from keras->keras_tuner) (13.9.4)\n",
            "Requirement already satisfied: namex in /usr/local/lib/python3.11/dist-packages (from keras->keras_tuner) (0.0.8)\n",
            "Requirement already satisfied: h5py in /usr/local/lib/python3.11/dist-packages (from keras->keras_tuner) (3.12.1)\n",
            "Requirement already satisfied: optree in /usr/local/lib/python3.11/dist-packages (from keras->keras_tuner) (0.14.0)\n",
            "Requirement already satisfied: ml-dtypes in /usr/local/lib/python3.11/dist-packages (from keras->keras_tuner) (0.4.1)\n",
            "Requirement already satisfied: charset-normalizer<4,>=2 in /usr/local/lib/python3.11/dist-packages (from requests->keras_tuner) (3.4.1)\n",
            "Requirement already satisfied: idna<4,>=2.5 in /usr/local/lib/python3.11/dist-packages (from requests->keras_tuner) (3.10)\n",
            "Requirement already satisfied: urllib3<3,>=1.21.1 in /usr/local/lib/python3.11/dist-packages (from requests->keras_tuner) (2.3.0)\n",
            "Requirement already satisfied: certifi>=2017.4.17 in /usr/local/lib/python3.11/dist-packages (from requests->keras_tuner) (2025.1.31)\n",
            "Requirement already satisfied: typing-extensions>=4.5.0 in /usr/local/lib/python3.11/dist-packages (from optree->keras->keras_tuner) (4.12.2)\n",
            "Requirement already satisfied: markdown-it-py>=2.2.0 in /usr/local/lib/python3.11/dist-packages (from rich->keras->keras_tuner) (3.0.0)\n",
            "Requirement already satisfied: pygments<3.0.0,>=2.13.0 in /usr/local/lib/python3.11/dist-packages (from rich->keras->keras_tuner) (2.18.0)\n",
            "Requirement already satisfied: mdurl~=0.1 in /usr/local/lib/python3.11/dist-packages (from markdown-it-py>=2.2.0->rich->keras->keras_tuner) (0.1.2)\n",
            "Downloading keras_tuner-1.4.7-py3-none-any.whl (129 kB)\n",
            "\u001b[2K   \u001b[90m━━━━━━━━━━━━━━━━━━━━━━━━━━━━━━━━━━━━━━━━\u001b[0m \u001b[32m129.1/129.1 kB\u001b[0m \u001b[31m2.9 MB/s\u001b[0m eta \u001b[36m0:00:00\u001b[0m\n",
            "\u001b[?25hDownloading kt_legacy-1.0.5-py3-none-any.whl (9.6 kB)\n",
            "Installing collected packages: kt-legacy, keras_tuner\n",
            "Successfully installed keras_tuner-1.4.7 kt-legacy-1.0.5\n"
          ]
        }
      ]
    },
    {
      "cell_type": "code",
      "source": [
        "from keras_tuner import RandomSearch"
      ],
      "metadata": {
        "id": "wqPv63So4xV4"
      },
      "execution_count": 5,
      "outputs": []
    },
    {
      "cell_type": "code",
      "source": [
        "def build_model(hp):  #hp is object of RandomSearch class\n",
        "#choice is basically for string type values mainly\n",
        "  model=Sequential()\n",
        "  model.add(layers.Dense(units=hp.Int('unit_1',min_value=32,max_value=512,step=128),activation=hp.Choice('act_1',['relu','sigmoid','tanh'])))\n",
        "  model.add(layers.Dense(units=hp.Int('unit_2',min_value=32,max_value=512,step=128),activation=hp.Choice('act_2',['relu','sigmoid','tanh'])))\n",
        "  model.add(layers.Dense(10,activation='softmax'))\n",
        "  model.compile(loss=keras.losses.SparseCategoricalCrossentropy(),\n",
        "                optimizer=keras.optimizers.Adam(learning_rate=hp.Choice('lr',[1e-2,1e-3,1e-4])),\n",
        "                metrics=['accuracy'])\n",
        "  return model"
      ],
      "metadata": {
        "id": "X8fLmk-35AZX"
      },
      "execution_count": 8,
      "outputs": []
    },
    {
      "cell_type": "code",
      "source": [
        "tuner=RandomSearch(build_model,objective='val_loss',max_trials=5,directory='my_dir')"
      ],
      "metadata": {
        "id": "7gK135mk7ecR"
      },
      "execution_count": 9,
      "outputs": []
    },
    {
      "cell_type": "code",
      "source": [
        "tuner.search_space_summary()"
      ],
      "metadata": {
        "colab": {
          "base_uri": "https://localhost:8080/"
        },
        "id": "aALeWdka8cNU",
        "outputId": "5a19531d-acfd-4da7-ca86-194ff33c3c8b"
      },
      "execution_count": 10,
      "outputs": [
        {
          "output_type": "stream",
          "name": "stdout",
          "text": [
            "Search space summary\n",
            "Default search space size: 5\n",
            "unit_1 (Int)\n",
            "{'default': None, 'conditions': [], 'min_value': 32, 'max_value': 512, 'step': 128, 'sampling': 'linear'}\n",
            "act_1 (Choice)\n",
            "{'default': 'relu', 'conditions': [], 'values': ['relu', 'sigmoid', 'tanh'], 'ordered': False}\n",
            "unit_2 (Int)\n",
            "{'default': None, 'conditions': [], 'min_value': 32, 'max_value': 512, 'step': 128, 'sampling': 'linear'}\n",
            "act_2 (Choice)\n",
            "{'default': 'relu', 'conditions': [], 'values': ['relu', 'sigmoid', 'tanh'], 'ordered': False}\n",
            "lr (Choice)\n",
            "{'default': 0.01, 'conditions': [], 'values': [0.01, 0.001, 0.0001], 'ordered': True}\n"
          ]
        }
      ]
    },
    {
      "cell_type": "code",
      "source": [
        "#each combination will be tested for 5 epochs\n",
        "tuner.search(x_train,y_train,epochs=5,validation_data=(x_test,y_test))"
      ],
      "metadata": {
        "colab": {
          "base_uri": "https://localhost:8080/"
        },
        "id": "f6UCwbTt8mdO",
        "outputId": "0e38218e-9812-4e97-a1f7-a68b99dbd462"
      },
      "execution_count": 11,
      "outputs": [
        {
          "output_type": "stream",
          "name": "stdout",
          "text": [
            "Trial 5 Complete [00h 00m 49s]\n",
            "val_loss: 0.2963313162326813\n",
            "\n",
            "Best val_loss So Far: 0.0715397521853447\n",
            "Total elapsed time: 00h 06m 22s\n"
          ]
        }
      ]
    },
    {
      "cell_type": "code",
      "source": [
        "tuner.results_summary()"
      ],
      "metadata": {
        "colab": {
          "base_uri": "https://localhost:8080/"
        },
        "id": "UWUkJ57I89Jt",
        "outputId": "d9343422-c4f5-43fd-e796-ff3896eda892"
      },
      "execution_count": 12,
      "outputs": [
        {
          "output_type": "stream",
          "name": "stdout",
          "text": [
            "Results summary\n",
            "Results in my_dir/untitled_project\n",
            "Showing 10 best trials\n",
            "Objective(name=\"val_loss\", direction=\"min\")\n",
            "\n",
            "Trial 1 summary\n",
            "Hyperparameters:\n",
            "unit_1: 416\n",
            "act_1: tanh\n",
            "unit_2: 32\n",
            "act_2: sigmoid\n",
            "lr: 0.001\n",
            "Score: 0.0715397521853447\n",
            "\n",
            "Trial 2 summary\n",
            "Hyperparameters:\n",
            "unit_1: 160\n",
            "act_1: tanh\n",
            "unit_2: 416\n",
            "act_2: tanh\n",
            "lr: 0.001\n",
            "Score: 0.07291610538959503\n",
            "\n",
            "Trial 3 summary\n",
            "Hyperparameters:\n",
            "unit_1: 288\n",
            "act_1: relu\n",
            "unit_2: 416\n",
            "act_2: sigmoid\n",
            "lr: 0.001\n",
            "Score: 0.07640974968671799\n",
            "\n",
            "Trial 0 summary\n",
            "Hyperparameters:\n",
            "unit_1: 32\n",
            "act_1: tanh\n",
            "unit_2: 160\n",
            "act_2: relu\n",
            "lr: 0.01\n",
            "Score: 0.22070886194705963\n",
            "\n",
            "Trial 4 summary\n",
            "Hyperparameters:\n",
            "unit_1: 32\n",
            "act_1: sigmoid\n",
            "unit_2: 416\n",
            "act_2: sigmoid\n",
            "lr: 0.0001\n",
            "Score: 0.2963313162326813\n"
          ]
        }
      ]
    },
    {
      "cell_type": "code",
      "source": [
        "def build_model1(hp):\n",
        "  model1=Sequential()\n",
        "  for i in range(hp.Int('num_layers',min_value=2,max_value=10,step=1)):\n",
        "    model1.add(layers.Dense(units=hp.Int('unit_'+str(i),min_value=32,max_value=512,step=64),activation=hp.Choice('act_'+str(i),['relu','sigmoid'])))\n",
        "  model1.add(layers.Dense(10,activation='softmax'))\n",
        "  model1.compile(loss=keras.losses.SparseCategoricalCrossentropy(),\n",
        "                optimizer=keras.optimizers.Adam(learning_rate=hp.Choice('lr',[1e-2,1e-3,1e-4])),\n",
        "                metrics=['accuracy'])\n",
        "  return model1"
      ],
      "metadata": {
        "id": "LXS-sSkE9-wV"
      },
      "execution_count": 19,
      "outputs": []
    },
    {
      "cell_type": "code",
      "source": [
        "tuner3=RandomSearch(build_model1,objective='val_loss',max_trials=5,directory='my_dir1')"
      ],
      "metadata": {
        "id": "-OoDL0yq-7Cy"
      },
      "execution_count": 22,
      "outputs": []
    },
    {
      "cell_type": "code",
      "source": [
        "tuner3.search_space_summary()"
      ],
      "metadata": {
        "colab": {
          "base_uri": "https://localhost:8080/"
        },
        "id": "iIP5vyDu-_HB",
        "outputId": "f8c91cce-246e-413b-fa1c-c0e44e0c92af"
      },
      "execution_count": 23,
      "outputs": [
        {
          "output_type": "stream",
          "name": "stdout",
          "text": [
            "Search space summary\n",
            "Default search space size: 6\n",
            "num_layers (Int)\n",
            "{'default': None, 'conditions': [], 'min_value': 2, 'max_value': 10, 'step': 1, 'sampling': 'linear'}\n",
            "unit_0 (Int)\n",
            "{'default': None, 'conditions': [], 'min_value': 32, 'max_value': 512, 'step': 64, 'sampling': 'linear'}\n",
            "act_0 (Choice)\n",
            "{'default': 'relu', 'conditions': [], 'values': ['relu', 'sigmoid'], 'ordered': False}\n",
            "unit_1 (Int)\n",
            "{'default': None, 'conditions': [], 'min_value': 32, 'max_value': 512, 'step': 64, 'sampling': 'linear'}\n",
            "act_1 (Choice)\n",
            "{'default': 'relu', 'conditions': [], 'values': ['relu', 'sigmoid'], 'ordered': False}\n",
            "lr (Choice)\n",
            "{'default': 0.01, 'conditions': [], 'values': [0.01, 0.001, 0.0001], 'ordered': True}\n"
          ]
        }
      ]
    },
    {
      "cell_type": "code",
      "source": [],
      "metadata": {
        "id": "-_cMMSt__C2p"
      },
      "execution_count": null,
      "outputs": []
    }
  ]
}